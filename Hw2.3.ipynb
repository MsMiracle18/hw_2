{
 "cells": [
  {
   "cell_type": "code",
   "execution_count": 1,
   "id": "f79b949b-1c81-4f02-93c2-58fbfcbddb80",
   "metadata": {},
   "outputs": [],
   "source": [
    "%matplotlib inline\n",
    "import pandas as pd\n",
    "import matplotlib.pyplot as plt\n",
    "import seaborn as sns"
   ]
  },
  {
   "cell_type": "code",
   "execution_count": 31,
   "id": "f6fe36ee-3d60-433c-8538-b1298ba01bad",
   "metadata": {},
   "outputs": [
    {
     "name": "stdout",
     "output_type": "stream",
     "text": [
      "                                                  Name  \\\n",
      "0                        10-Day Green Smoothie Cleanse   \n",
      "1                                    11/22/63: A Novel   \n",
      "2              12 Rules for Life: An Antidote to Chaos   \n",
      "3                               1984 (Signet Classics)   \n",
      "4    5,000 Awesome Facts (About Everything!) (Natio...   \n",
      "..                                                 ...   \n",
      "545       Wrecking Ball (Diary of a Wimpy Kid Book 14)   \n",
      "546  You Are a Badass: How to Stop Doubting Your Gr...   \n",
      "547  You Are a Badass: How to Stop Doubting Your Gr...   \n",
      "548  You Are a Badass: How to Stop Doubting Your Gr...   \n",
      "549  You Are a Badass: How to Stop Doubting Your Gr...   \n",
      "\n",
      "                       Author  User Rating  Reviews  Price  Year        Genre  \n",
      "0                    JJ Smith          4.7    17350      8  2016  Non Fiction  \n",
      "1                Stephen King          4.6     2052     22  2011      Fiction  \n",
      "2          Jordan B. Peterson          4.7    18979     15  2018  Non Fiction  \n",
      "3               George Orwell          4.7    21424      6  2017      Fiction  \n",
      "4    National Geographic Kids          4.8     7665     12  2019  Non Fiction  \n",
      "..                        ...          ...      ...    ...   ...          ...  \n",
      "545               Jeff Kinney          4.9     9413      8  2019      Fiction  \n",
      "546               Jen Sincero          4.7    14331      8  2016  Non Fiction  \n",
      "547               Jen Sincero          4.7    14331      8  2017  Non Fiction  \n",
      "548               Jen Sincero          4.7    14331      8  2018  Non Fiction  \n",
      "549               Jen Sincero          4.7    14331      8  2019  Non Fiction  \n",
      "\n",
      "[550 rows x 7 columns]\n"
     ]
    }
   ],
   "source": [
    "#Прочитайте csv файл (використовуйте функцію read_csv)\n",
    "df = pd.read_csv(\"bestsellers with categories.csv\")\n",
    "print(df)"
   ]
  },
  {
   "cell_type": "code",
   "execution_count": 32,
   "id": "0e0c7af7-6d20-4b2e-bdb5-443ac481cc32",
   "metadata": {},
   "outputs": [
    {
     "data": {
      "text/html": [
       "<div>\n",
       "<style scoped>\n",
       "    .dataframe tbody tr th:only-of-type {\n",
       "        vertical-align: middle;\n",
       "    }\n",
       "\n",
       "    .dataframe tbody tr th {\n",
       "        vertical-align: top;\n",
       "    }\n",
       "\n",
       "    .dataframe thead th {\n",
       "        text-align: right;\n",
       "    }\n",
       "</style>\n",
       "<table border=\"1\" class=\"dataframe\">\n",
       "  <thead>\n",
       "    <tr style=\"text-align: right;\">\n",
       "      <th></th>\n",
       "      <th>Name</th>\n",
       "      <th>Author</th>\n",
       "      <th>User Rating</th>\n",
       "      <th>Reviews</th>\n",
       "      <th>Price</th>\n",
       "      <th>Year</th>\n",
       "      <th>Genre</th>\n",
       "    </tr>\n",
       "  </thead>\n",
       "  <tbody>\n",
       "    <tr>\n",
       "      <th>0</th>\n",
       "      <td>10-Day Green Smoothie Cleanse</td>\n",
       "      <td>JJ Smith</td>\n",
       "      <td>4.7</td>\n",
       "      <td>17350</td>\n",
       "      <td>8</td>\n",
       "      <td>2016</td>\n",
       "      <td>Non Fiction</td>\n",
       "    </tr>\n",
       "    <tr>\n",
       "      <th>1</th>\n",
       "      <td>11/22/63: A Novel</td>\n",
       "      <td>Stephen King</td>\n",
       "      <td>4.6</td>\n",
       "      <td>2052</td>\n",
       "      <td>22</td>\n",
       "      <td>2011</td>\n",
       "      <td>Fiction</td>\n",
       "    </tr>\n",
       "    <tr>\n",
       "      <th>2</th>\n",
       "      <td>12 Rules for Life: An Antidote to Chaos</td>\n",
       "      <td>Jordan B. Peterson</td>\n",
       "      <td>4.7</td>\n",
       "      <td>18979</td>\n",
       "      <td>15</td>\n",
       "      <td>2018</td>\n",
       "      <td>Non Fiction</td>\n",
       "    </tr>\n",
       "    <tr>\n",
       "      <th>3</th>\n",
       "      <td>1984 (Signet Classics)</td>\n",
       "      <td>George Orwell</td>\n",
       "      <td>4.7</td>\n",
       "      <td>21424</td>\n",
       "      <td>6</td>\n",
       "      <td>2017</td>\n",
       "      <td>Fiction</td>\n",
       "    </tr>\n",
       "    <tr>\n",
       "      <th>4</th>\n",
       "      <td>5,000 Awesome Facts (About Everything!) (Natio...</td>\n",
       "      <td>National Geographic Kids</td>\n",
       "      <td>4.8</td>\n",
       "      <td>7665</td>\n",
       "      <td>12</td>\n",
       "      <td>2019</td>\n",
       "      <td>Non Fiction</td>\n",
       "    </tr>\n",
       "  </tbody>\n",
       "</table>\n",
       "</div>"
      ],
      "text/plain": [
       "                                                Name  \\\n",
       "0                      10-Day Green Smoothie Cleanse   \n",
       "1                                  11/22/63: A Novel   \n",
       "2            12 Rules for Life: An Antidote to Chaos   \n",
       "3                             1984 (Signet Classics)   \n",
       "4  5,000 Awesome Facts (About Everything!) (Natio...   \n",
       "\n",
       "                     Author  User Rating  Reviews  Price  Year        Genre  \n",
       "0                  JJ Smith          4.7    17350      8  2016  Non Fiction  \n",
       "1              Stephen King          4.6     2052     22  2011      Fiction  \n",
       "2        Jordan B. Peterson          4.7    18979     15  2018  Non Fiction  \n",
       "3             George Orwell          4.7    21424      6  2017      Fiction  \n",
       "4  National Geographic Kids          4.8     7665     12  2019  Non Fiction  "
      ]
     },
     "execution_count": 32,
     "metadata": {},
     "output_type": "execute_result"
    }
   ],
   "source": [
    "#Виведіть перші п'ять рядків (використовується функція head)\n",
    "df.head()"
   ]
  },
  {
   "cell_type": "code",
   "execution_count": 33,
   "id": "a4b83592-255c-4de1-8732-6601655d7b9a",
   "metadata": {},
   "outputs": [
    {
     "name": "stdout",
     "output_type": "stream",
     "text": [
      "550\n",
      "7\n"
     ]
    }
   ],
   "source": [
    "#Виведіть розміри датасету (використовуйте атрибут shape)\n",
    "rows,columns = df.shape\n",
    "print(rows)\n",
    "print(columns)"
   ]
  },
  {
   "cell_type": "code",
   "execution_count": 34,
   "id": "81f14fe7-7219-4c7a-b8c7-bff9b2448a3c",
   "metadata": {},
   "outputs": [
    {
     "name": "stdout",
     "output_type": "stream",
     "text": [
      "Про 550 книг\n"
     ]
    }
   ],
   "source": [
    "#Відповідь: Про скільки книг зберігає дані датасет?\n",
    "print(\"Про 550 книг\")"
   ]
  },
  {
   "cell_type": "code",
   "execution_count": 35,
   "id": "92a83b51-a192-4b91-ae12-f658bec757f2",
   "metadata": {},
   "outputs": [
    {
     "data": {
      "text/html": [
       "<div>\n",
       "<style scoped>\n",
       "    .dataframe tbody tr th:only-of-type {\n",
       "        vertical-align: middle;\n",
       "    }\n",
       "\n",
       "    .dataframe tbody tr th {\n",
       "        vertical-align: top;\n",
       "    }\n",
       "\n",
       "    .dataframe thead th {\n",
       "        text-align: right;\n",
       "    }\n",
       "</style>\n",
       "<table border=\"1\" class=\"dataframe\">\n",
       "  <thead>\n",
       "    <tr style=\"text-align: right;\">\n",
       "      <th></th>\n",
       "      <th>name</th>\n",
       "      <th>author</th>\n",
       "      <th>user_rating</th>\n",
       "      <th>reviews</th>\n",
       "      <th>price</th>\n",
       "      <th>year</th>\n",
       "      <th>genre</th>\n",
       "    </tr>\n",
       "  </thead>\n",
       "  <tbody>\n",
       "    <tr>\n",
       "      <th>0</th>\n",
       "      <td>10-Day Green Smoothie Cleanse</td>\n",
       "      <td>JJ Smith</td>\n",
       "      <td>4.7</td>\n",
       "      <td>17350</td>\n",
       "      <td>8</td>\n",
       "      <td>2016</td>\n",
       "      <td>Non Fiction</td>\n",
       "    </tr>\n",
       "    <tr>\n",
       "      <th>1</th>\n",
       "      <td>11/22/63: A Novel</td>\n",
       "      <td>Stephen King</td>\n",
       "      <td>4.6</td>\n",
       "      <td>2052</td>\n",
       "      <td>22</td>\n",
       "      <td>2011</td>\n",
       "      <td>Fiction</td>\n",
       "    </tr>\n",
       "    <tr>\n",
       "      <th>2</th>\n",
       "      <td>12 Rules for Life: An Antidote to Chaos</td>\n",
       "      <td>Jordan B. Peterson</td>\n",
       "      <td>4.7</td>\n",
       "      <td>18979</td>\n",
       "      <td>15</td>\n",
       "      <td>2018</td>\n",
       "      <td>Non Fiction</td>\n",
       "    </tr>\n",
       "    <tr>\n",
       "      <th>3</th>\n",
       "      <td>1984 (Signet Classics)</td>\n",
       "      <td>George Orwell</td>\n",
       "      <td>4.7</td>\n",
       "      <td>21424</td>\n",
       "      <td>6</td>\n",
       "      <td>2017</td>\n",
       "      <td>Fiction</td>\n",
       "    </tr>\n",
       "    <tr>\n",
       "      <th>4</th>\n",
       "      <td>5,000 Awesome Facts (About Everything!) (Natio...</td>\n",
       "      <td>National Geographic Kids</td>\n",
       "      <td>4.8</td>\n",
       "      <td>7665</td>\n",
       "      <td>12</td>\n",
       "      <td>2019</td>\n",
       "      <td>Non Fiction</td>\n",
       "    </tr>\n",
       "  </tbody>\n",
       "</table>\n",
       "</div>"
      ],
      "text/plain": [
       "                                                name  \\\n",
       "0                      10-Day Green Smoothie Cleanse   \n",
       "1                                  11/22/63: A Novel   \n",
       "2            12 Rules for Life: An Antidote to Chaos   \n",
       "3                             1984 (Signet Classics)   \n",
       "4  5,000 Awesome Facts (About Everything!) (Natio...   \n",
       "\n",
       "                     author  user_rating  reviews  price  year        genre  \n",
       "0                  JJ Smith          4.7    17350      8  2016  Non Fiction  \n",
       "1              Stephen King          4.6     2052     22  2011      Fiction  \n",
       "2        Jordan B. Peterson          4.7    18979     15  2018  Non Fiction  \n",
       "3             George Orwell          4.7    21424      6  2017      Fiction  \n",
       "4  National Geographic Kids          4.8     7665     12  2019  Non Fiction  "
      ]
     },
     "execution_count": 35,
     "metadata": {},
     "output_type": "execute_result"
    }
   ],
   "source": [
    "#Давайте змінимо регістр на малий, а пробіл замінимо на нижнє підкреслення (snake_style). \n",
    "df.columns = ['name', 'author', 'user_rating', 'reviews', 'price', 'year', 'genre']\n",
    "df.head()"
   ]
  },
  {
   "cell_type": "code",
   "execution_count": 66,
   "id": "cfe85415-9f35-473a-a9fb-0505a542224d",
   "metadata": {},
   "outputs": [
    {
     "data": {
      "image/png": "[encoded data removed]",
      "text/plain": [
       "<Figure size 640x480 with 1 Axes>"
      ]
     },
     "metadata": {},
     "output_type": "display_data"
    }
   ],
   "source": [
    "books_with_genre = df['genre'].value_counts()\n",
    "fig, ax = plt.subplots()\n",
    "ax.pie(books_with_genre, labels=books_with_genre.index, autopct='%1.1f%%', startangle=90, colors=['#ff9999', '#66b3ff'], wedgeprops=dict(width=0.4))\n",
    "ax.axis('equal') \n",
    "\n",
    "plt.title('Кільцева діаграма жанрів')\n",
    "plt.show()"
   ]
  },
  {
   "cell_type": "code",
   "execution_count": 68,
   "id": "2b21c781-f6e7-472f-a418-9dbf74bdbb89",
   "metadata": {},
   "outputs": [
    {
     "data": {
      "image/png": "[encoded data removed]",
      "text/plain": [
       "<Figure size 1200x800 with 1 Axes>"
      ]
     },
     "metadata": {},
     "output_type": "display_data"
    }
   ],
   "source": [
    "average_rating_by_year = df.groupby('year')['user_rating'].mean().reset_index()\n",
    "\n",
    "plt.figure(figsize=(12, 8))\n",
    "sns.lineplot(x='year', y='user_rating', data=average_rating_by_year, marker='o')\n",
    "plt.title('Середній рейтинг за рік')\n",
    "plt.xlabel('Рік')\n",
    "plt.ylabel('Середній рейтинг')\n",
    "plt.show()"
   ]
  },
  {
   "cell_type": "code",
   "execution_count": 72,
   "id": "e9ec5801-208d-4f9c-8a15-39598647dbda",
   "metadata": {},
   "outputs": [
    {
     "data": {
      "image/png": "[encoded data removed]",
      "text/plain": [
       "<Figure size 1200x800 with 1 Axes>"
      ]
     },
     "metadata": {},
     "output_type": "display_data"
    }
   ],
   "source": [
    "books_genre_year = df.groupby(['year', 'genre']).size().reset_index(name='Number of Books')\n",
    "\n",
    "dominant_genres = books_genre_year.loc[books_genre_year.groupby('year')['Number of Books'].idxmax()]\n",
    "\n",
    "plt.figure(figsize=(12, 8))\n",
    "sns.barplot(x='year', y='Number of Books', hue='genre', data=dominant_genres)\n",
    "plt.title('Переважаючий жанр за роками')\n",
    "plt.xlabel('Рік')\n",
    "plt.ylabel('Кількість книг')\n",
    "plt.legend(title='Жанр')\n",
    "plt.show()"
   ]
  },
  {
   "cell_type": "code",
   "execution_count": 36,
   "id": "8376c84e-2ae5-4bc0-9447-0da243264ac9",
   "metadata": {},
   "outputs": [
    {
     "name": "stdout",
     "output_type": "stream",
     "text": [
      "name           0\n",
      "author         0\n",
      "user_rating    0\n",
      "reviews        0\n",
      "price          0\n",
      "year           0\n",
      "genre          0\n",
      "dtype: int64\n"
     ]
    }
   ],
   "source": [
    "#Перевірте, чи у всіх рядків вистачає даних: виведіть кількість пропусків (na) у кожному зі стовпців (використовуйте функції isna та sum)\n",
    "print(df.isna().sum())"
   ]
  },
  {
   "cell_type": "code",
   "execution_count": 37,
   "id": "8968e0c0-00b1-428d-bacb-86567017262f",
   "metadata": {},
   "outputs": [
    {
     "name": "stdout",
     "output_type": "stream",
     "text": [
      "No\n"
     ]
    }
   ],
   "source": [
    "#Відповідь: Чи є в якихось змінних пропуски? (Так / ні)\n",
    "print(\"No\")"
   ]
  },
  {
   "cell_type": "code",
   "execution_count": 38,
   "id": "fb7acf34-36a0-44b3-8a85-267c4a81a019",
   "metadata": {},
   "outputs": [
    {
     "name": "stdout",
     "output_type": "stream",
     "text": [
      "['Non Fiction' 'Fiction']\n"
     ]
    }
   ],
   "source": [
    "#Перевірте, які є унікальні значення в колонці genre (використовуйте функцію unique)\n",
    "print(df[\"genre\"].unique())"
   ]
  },
  {
   "cell_type": "code",
   "execution_count": 39,
   "id": "b486a388-feee-49df-b5f7-501a77863e45",
   "metadata": {},
   "outputs": [
    {
     "name": "stdout",
     "output_type": "stream",
     "text": [
      "'Non Fiction' and 'Fiction'\n"
     ]
    }
   ],
   "source": [
    "#Відповідь: Які є унікальні жанри?\n",
    "print(\"'Non Fiction' and 'Fiction'\")"
   ]
  },
  {
   "cell_type": "code",
   "execution_count": 40,
   "id": "05eb59f1-98ec-4c1e-a447-bbc5166d2ccc",
   "metadata": {},
   "outputs": [
    {
     "data": {
      "image/png": "[encoded data removed]",
      "text/plain": [
       "<Figure size 640x480 with 1 Axes>"
      ]
     },
     "metadata": {},
     "output_type": "display_data"
    }
   ],
   "source": [
    "#Тепер подивіться на розподіл цін: побудуйте діаграму (використовуйте kind='hist')\n",
    "df['price'].plot(kind='hist')\n",
    "plt.xlabel('Ціна')\n",
    "plt.ylabel('Частота')\n",
    "plt.show()"
   ]
  },
  {
   "cell_type": "code",
   "execution_count": 41,
   "id": "09e15612-be94-4f36-aed5-e68aefce1b20",
   "metadata": {},
   "outputs": [
    {
     "name": "stdout",
     "output_type": "stream",
     "text": [
      "105\n",
      "0\n",
      "13.1\n",
      "11.0\n"
     ]
    }
   ],
   "source": [
    "#Визначте, яка ціна у нас максимальна, мінімальна, середня, медіанна (використовуйте функції max, min, mean, median)\n",
    "print(df[\"price\"].max())\n",
    "print(df[\"price\"].min())\n",
    "print(df[\"price\"].mean())\n",
    "print(df[\"price\"].median())"
   ]
  },
  {
   "cell_type": "code",
   "execution_count": 42,
   "id": "94e9bac6-bb56-4829-915b-7370823c15ff",
   "metadata": {},
   "outputs": [
    {
     "name": "stdout",
     "output_type": "stream",
     "text": [
      "Відповідь: Максимальна ціна? 105\n",
      "Відповідь: Мінімальна ціна? 0\n",
      "Відповідь: Середня ціна? 13.1\n",
      "Відповідь: Медіанна ціна? 11.0\n"
     ]
    }
   ],
   "source": [
    "#Відповідь: Максимальна ціна? Відповідь: Мінімальна ціна? Відповідь: Середня ціна? Відповідь: Медіанна ціна?\n",
    "print(\"Відповідь: Максимальна ціна? 105\")\n",
    "print(\"Відповідь: Мінімальна ціна? 0\")\n",
    "print(\"Відповідь: Середня ціна? 13.1\")\n",
    "print(\"Відповідь: Медіанна ціна? 11.0\")"
   ]
  },
  {
   "cell_type": "code",
   "execution_count": 43,
   "id": "32d8d98d-a319-40af-843b-a5f069fdd19d",
   "metadata": {},
   "outputs": [
    {
     "name": "stdout",
     "output_type": "stream",
     "text": [
      "Відповідь:4.9\n"
     ]
    }
   ],
   "source": [
    "#Відповідь: Який рейтинг у датасеті найвищий? Відповідь:\n",
    "print(f'Відповідь:{df[\"user_rating\"].max()}')"
   ]
  },
  {
   "cell_type": "code",
   "execution_count": 44,
   "id": "abc135ec-4ab8-4c5e-9aba-fc14458fc129",
   "metadata": {},
   "outputs": [
    {
     "name": "stdout",
     "output_type": "stream",
     "text": [
      "Відповідь: 52\n"
     ]
    }
   ],
   "source": [
    "#Відповідь: Скільки книг мають такий рейтинг?\n",
    "books = df[df['user_rating'] == 4.9]\n",
    "print('Відповідь:',books.shape[0])"
   ]
  },
  {
   "cell_type": "code",
   "execution_count": 45,
   "id": "9c91ac49-3c43-4b23-9215-4d5554762c27",
   "metadata": {},
   "outputs": [
    {
     "name": "stdout",
     "output_type": "stream",
     "text": [
      "Відповідь: Where the Crawdads Sing\n"
     ]
    }
   ],
   "source": [
    "#Відповідь: Яка книга має найбільше відгуків? \n",
    "reviews = df[\"reviews\"].max()\n",
    "book = df.loc[df['reviews'] == reviews]\n",
    "print('Відповідь:',book['name'].values[0])"
   ]
  },
  {
   "cell_type": "code",
   "execution_count": 46,
   "id": "a58bc68f-62ba-4665-8c93-83f7502b9e00",
   "metadata": {},
   "outputs": [
    {
     "name": "stdout",
     "output_type": "stream",
     "text": [
      "Відповідь: Publication Manual of the American Psychological Association, 6th Edition\n"
     ]
    }
   ],
   "source": [
    "#Відповідь: З тих книг, що потрапили до Топ-50 у 2015 році, яка книга найдорожча (можна використати проміжний датафрейм)?\n",
    "books_2015 = df[df['year'] == 2015]\n",
    "price_max_index = books_2015[\"price\"].idxmax()\n",
    "book_with_max_price = df.loc[price_max_index]\n",
    "print('Відповідь:',book_with_max_price['name'])"
   ]
  },
  {
   "cell_type": "code",
   "execution_count": 47,
   "id": "58499ec1-973e-4659-997b-67b3bce351fc",
   "metadata": {},
   "outputs": [
    {
     "name": "stdout",
     "output_type": "stream",
     "text": [
      "Відповідь: 0\n"
     ]
    }
   ],
   "source": [
    "#Відповідь: Скільки книг жанру Fiction потрапили до Топ-50 у 2010 році (використовуйте &)?\n",
    "genre_fiction = df[(df['genre']=='fiction') & (df[\"year\"] == 2010)]\n",
    "print('Відповідь:', len(genre_fiction))"
   ]
  },
  {
   "cell_type": "code",
   "execution_count": 48,
   "id": "489d0370-7e17-4e15-a855-056b6df2360c",
   "metadata": {},
   "outputs": [
    {
     "name": "stdout",
     "output_type": "stream",
     "text": [
      "Відповідь: 1\n"
     ]
    }
   ],
   "source": [
    "#Відповідь: Скільки книг з рейтингом 4.9 потрапило до рейтингу у 2010 та 2011 роках (використовуйте | або функцію isin)? \n",
    "books = df[(df['user_rating'] == 4.9) & ((df[\"year\"] == 2010) | (df[\"year\"] == 2011))]\n",
    "print('Відповідь:', len(books))"
   ]
  },
  {
   "cell_type": "code",
   "execution_count": 49,
   "id": "ac43d201-6774-4c83-af1a-a306830fa1b2",
   "metadata": {},
   "outputs": [
    {
     "name": "stdout",
     "output_type": "stream",
     "text": [
      "                                                  name  \\\n",
      "507                              To Kill a Mockingbird   \n",
      "54   Creative Haven Creative Cats Coloring Book (Ad...   \n",
      "111                                    First 100 Words   \n",
      "123                               Giraffes Can't Dance   \n",
      "206                         Knock-Knock Jokes for Kids   \n",
      "210                      Laugh-Out-Loud Jokes for Kids   \n",
      "224                                   Love You Forever   \n",
      "28                        Baby Touch and Feel: Animals   \n",
      "55   Creative Haven Owls Coloring Book (Adult Color...   \n",
      "63                      Dear Zoo: A Lift-the-Flap Book   \n",
      "89   Dover Creative Haven Art Nouveau Animal Design...   \n",
      "478                        The Very Hungry Caterpillar   \n",
      "201  Killing Reagan: The Violent Assault That Chang...   \n",
      "376  The Four Agreements: A Practical Guide to Pers...   \n",
      "16   Adult Coloring Book: Stress Relieving Animal D...   \n",
      "17      Adult Coloring Book: Stress Relieving Patterns   \n",
      "253              Old School (Diary of a Wimpy Kid #10)   \n",
      "248                          Oh, the Places You'll Go!   \n",
      "325  The 5 Love Languages: The Secret to Love that ...   \n",
      "350                          The Book with No Pictures   \n",
      "18   Adult Coloring Books: A Coloring Book for Adul...   \n",
      "191  Jesus Calling: Enjoying Peace in His Presence ...   \n",
      "\n",
      "                        author  user_rating  reviews  price  year        genre  \n",
      "507                 Harper Lee          4.8    26234      0  2015      Fiction  \n",
      "54             Marjorie Sarnat          4.8     4022      4  2015  Non Fiction  \n",
      "111               Roger Priddy          4.7    17323      4  2015  Non Fiction  \n",
      "123              Giles Andreae          4.8    14038      4  2015      Fiction  \n",
      "206                Rob Elliott          4.5     3673      4  2015  Non Fiction  \n",
      "210                Rob Elliott          4.6     6990      4  2015  Non Fiction  \n",
      "224              Robert Munsch          4.8    18613      5  2015      Fiction  \n",
      "28                          DK          4.6     5360      5  2015  Non Fiction  \n",
      "55             Marjorie Sarnat          4.8     3871      5  2015  Non Fiction  \n",
      "63                Rod Campbell          4.8    10922      5  2015      Fiction  \n",
      "89                 Marty Noble          4.6     2134      5  2015  Non Fiction  \n",
      "478                 Eric Carle          4.9    19546      5  2015      Fiction  \n",
      "201              Bill O'Reilly          4.6     5235      5  2015  Non Fiction  \n",
      "376            Don Miguel Ruiz          4.7    23308      6  2015  Non Fiction  \n",
      "16          Blue Star Coloring          4.6     2925      6  2015  Non Fiction  \n",
      "17          Blue Star Coloring          4.4     2951      6  2015  Non Fiction  \n",
      "253                Jeff Kinney          4.8     6169      7  2015      Fiction  \n",
      "248                  Dr. Seuss          4.9    21834      8  2015      Fiction  \n",
      "325               Gary Chapman          4.8    25554      8  2015  Non Fiction  \n",
      "350                B. J. Novak          4.8     8081      8  2015      Fiction  \n",
      "18   Coloring Books for Adults          4.5     2426      8  2015  Non Fiction  \n",
      "191                Sarah Young          4.9    19576      8  2015  Non Fiction  \n"
     ]
    }
   ],
   "source": [
    "#І насамкінець, давайте відсортуємо за зростанням ціни всі книги, які потрапили до рейтингу в 2015 році і коштують дешевше за 8 доларів (використовуйте функцію sort_values).\n",
    "books_2015 = df[(df[\"year\"] == 2015)&(df[\"price\"] <= 8)]\n",
    "print(books_2015.sort_values(by='price'))"
   ]
  },
  {
   "cell_type": "code",
   "execution_count": 50,
   "id": "5687ebe8-2998-4686-9cf9-2f32fe93f60e",
   "metadata": {},
   "outputs": [
    {
     "name": "stdout",
     "output_type": "stream",
     "text": [
      "Відповідь: Jesus Calling: Enjoying Peace in His Presence (with Scripture References)\n"
     ]
    }
   ],
   "source": [
    "#Відповідь: Яка книга остання у відсортованому списку?\n",
    "book = books_2015.sort_values(by='price').iloc[-1]\n",
    "print('Відповідь:', book[\"name\"])"
   ]
  },
  {
   "cell_type": "code",
   "execution_count": 61,
   "id": "d1e00b29-e9b8-41ca-a5e1-79c67d659862",
   "metadata": {},
   "outputs": [
    {
     "name": "stdout",
     "output_type": "stream",
     "text": [
      "            price     \n",
      "              min  max\n",
      "genre                 \n",
      "Fiction         0   82\n",
      "Non Fiction     0  105\n",
      "Відповідь: Максимальна ціна для жанру Fiction: 82\n",
      "Відповідь: Мінімальна ціна для жанру Fiction: Відповідь 0\n",
      "Відповідь: Максимальна ціна для жанру Non Fiction: Відповідь 105\n",
      "Відповідь: Мінімальна ціна для жанру Non Fiction: Відповідь 0\n"
     ]
    }
   ],
   "source": [
    "#Для початку давайте подивимося на максимальну та мінімальну ціни для кожного з жанрів (використовуйте функції groupby та agg, для підрахунку мінімальних та максимальних значень використовуйте max та min). Не беріть усі стовпці, виберіть тільки потрібні вам\n",
    "price_genre = df.groupby(\"genre\").agg({'price': ['min', 'max']})\n",
    "print(price_genre)\n",
    "print(\"Відповідь: Максимальна ціна для жанру Fiction: 82\")\n",
    "print(\"Відповідь: Мінімальна ціна для жанру Fiction: Відповідь 0\")\n",
    "print(\"Відповідь: Максимальна ціна для жанру Non Fiction: Відповідь 105\")\n",
    "print(\"Відповідь: Мінімальна ціна для жанру Non Fiction: Відповідь 0\")"
   ]
  },
  {
   "cell_type": "code",
   "execution_count": 51,
   "id": "4ad4131b-51de-4e1c-85bf-6bb745e9c350",
   "metadata": {},
   "outputs": [
    {
     "name": "stdout",
     "output_type": "stream",
     "text": [
      "                            count_books\n",
      "author                                 \n",
      "Abraham Verghese                      2\n",
      "Adam Gasiewski                        1\n",
      "Adam Mansbach                         1\n",
      "Adir Levy                             1\n",
      "Admiral William H. McRaven            1\n",
      "...                                 ...\n",
      "Walter Isaacson                       3\n",
      "William Davis                         2\n",
      "William P. Young                      2\n",
      "Wizards RPG Team                      3\n",
      "Zhi Gang Sha                          2\n",
      "\n",
      "[248 rows x 1 columns]\n",
      "Відповідь: Якої розмірності вийшла таблиця? Відповідь:(248, 1)\n",
      "Відповідь: Який автор має найбільше книг? Відповідь:Jeff Kinney\n",
      "Відповідь: Скільки книг цього автора? Відповідь:12\n"
     ]
    }
   ],
   "source": [
    "#Тепер створіть новий датафрейм, який вміщатиме кількість книг для кожного з авторів (використовуйте функції groupby та agg, для підрахунку кількості використовуйте count). Не беріть усі стовпці, виберете тільки потрібні\n",
    "author_books = df.groupby('author').agg(count_books=('author', 'count'))\n",
    "print(author_books)\n",
    "print(f\"Відповідь: Якої розмірності вийшла таблиця? Відповідь:{author_books.shape}\")\n",
    "print(f\"Відповідь: Який автор має найбільше книг? Відповідь:{author_books['count_books'].idxmax()}\")\n",
    "print(f\"Відповідь: Скільки книг цього автора? Відповідь:{author_books['count_books'][author_books['count_books'].idxmax()]}\")"
   ]
  },
  {
   "cell_type": "code",
   "execution_count": 52,
   "id": "70c06fc7-ab1a-43a0-8801-0de3d9e74a9e",
   "metadata": {},
   "outputs": [
    {
     "name": "stdout",
     "output_type": "stream",
     "text": [
      "                            mean_rating\n",
      "author                                 \n",
      "Abraham Verghese               4.600000\n",
      "Adam Gasiewski                 4.400000\n",
      "Adam Mansbach                  4.800000\n",
      "Adir Levy                      4.800000\n",
      "Admiral William H. McRaven     4.700000\n",
      "...                                 ...\n",
      "Walter Isaacson                4.566667\n",
      "William Davis                  4.400000\n",
      "William P. Young               4.600000\n",
      "Wizards RPG Team               4.800000\n",
      "Zhi Gang Sha                   4.600000\n",
      "\n",
      "[248 rows x 1 columns]\n",
      "Відповідь: У якого автора середній рейтинг мінімальний? Відповідь:Donna Tartt\n",
      "Відповідь: Який у цього автора середній рейтинг? Відповідь:3.9\n"
     ]
    }
   ],
   "source": [
    "#Тепер створіть другий датафрейм, який буде вміщати середній рейтинг для кожного автора (використовуйте функції groupby та agg, для підрахунку середнього значення використовуйте mean). Не беріть усі стовпці, виберете тільки потрібні\n",
    "rating_df = df.groupby('author').agg(mean_rating=('user_rating', 'mean'))\n",
    "print(rating_df)\n",
    "print(f\"Відповідь: У якого автора середній рейтинг мінімальний? Відповідь:{rating_df.loc[rating_df['mean_rating'].idxmin()].name}\")\n",
    "print(f\"Відповідь: Який у цього автора середній рейтинг? Відповідь:{rating_df.loc[rating_df['mean_rating'].idxmin()].mean_rating}\")"
   ]
  },
  {
   "cell_type": "code",
   "execution_count": 53,
   "id": "94601a36-bb12-4cfe-a903-91124566d77c",
   "metadata": {},
   "outputs": [
    {
     "name": "stdout",
     "output_type": "stream",
     "text": [
      "                            count_books  mean_rating\n",
      "author                                              \n",
      "Abraham Verghese                      2     4.600000\n",
      "Adam Gasiewski                        1     4.400000\n",
      "Adam Mansbach                         1     4.800000\n",
      "Adir Levy                             1     4.800000\n",
      "Admiral William H. McRaven            1     4.700000\n",
      "...                                 ...          ...\n",
      "Walter Isaacson                       3     4.566667\n",
      "William Davis                         2     4.400000\n",
      "William P. Young                      2     4.600000\n",
      "Wizards RPG Team                      3     4.800000\n",
      "Zhi Gang Sha                          2     4.600000\n",
      "\n",
      "[248 rows x 2 columns]\n"
     ]
    }
   ],
   "source": [
    "#З'єднайте останні два датафрейми так, щоб для кожного автора було видно кількість книг та середній рейтинг (Використовуйте функцію concat з параметром axis=1). Збережіть результат у змінну\n",
    "result = pd.concat([author_books, rating_df], axis=1)\n",
    "print(result)"
   ]
  },
  {
   "cell_type": "code",
   "execution_count": 54,
   "id": "17edd8bc-9110-4b3a-b75f-6ab77a4e8cce",
   "metadata": {},
   "outputs": [
    {
     "name": "stdout",
     "output_type": "stream",
     "text": [
      "                                    count_books  mean_rating\n",
      "author                                                      \n",
      "Muriel Barbery                                1     4.000000\n",
      "Chris Cleave                                  1     4.100000\n",
      "Ian K. Smith M.D.                             1     4.100000\n",
      "Pierre Dukan                                  1     4.100000\n",
      "Elizabeth Strout                              1     4.200000\n",
      "...                                         ...          ...\n",
      "American Psychological Association           10     4.500000\n",
      "Suzanne Collins                              11     4.663636\n",
      "Gary Chapman                                 11     4.736364\n",
      "Rick Riordan                                 11     4.772727\n",
      "Jeff Kinney                                  12     4.800000\n",
      "\n",
      "[248 rows x 2 columns]\n"
     ]
    }
   ],
   "source": [
    "#Відсортуйте датафрейм за зростаючою кількістю книг та зростаючим рейтингом (використовуйте функцію sort_values)\n",
    "sort_result = result.sort_values(by=['count_books','mean_rating'])\n",
    "print(sort_result)"
   ]
  },
  {
   "cell_type": "code",
   "execution_count": 55,
   "id": "384a693e-1d5c-4dff-b644-c2f71b4e6d12",
   "metadata": {},
   "outputs": [
    {
     "name": "stdout",
     "output_type": "stream",
     "text": [
      "Відповідь: Muriel Barbery\n"
     ]
    }
   ],
   "source": [
    "#Відповідь: Який автор перший у списку?\n",
    "print(f\"Відповідь:\",sort_result['count_books'].idxmin())"
   ]
  }
 ],
 "metadata": {
  "kernelspec": {
   "display_name": "Python 3 (ipykernel)",
   "language": "python",
   "name": "python3"
  },
  "language_info": {
   "codemirror_mode": {
    "name": "ipython",
    "version": 3
   },
   "file_extension": ".py",
   "mimetype": "text/x-python",
   "name": "python",
   "nbconvert_exporter": "python",
   "pygments_lexer": "ipython3",
   "version": "3.11.2"
  }
 },
 "nbformat": 4,
 "nbformat_minor": 5
}
